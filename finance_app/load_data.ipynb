{
 "cells": [
  {
   "cell_type": "code",
   "execution_count": 173,
   "id": "3b1a2fe9-1ea9-4c2b-a6b2-41e2a45dd422",
   "metadata": {},
   "outputs": [],
   "source": [
    "# Provides ways to work with large multidimensional arrays\n",
    "import numpy as np \n",
    "# Allows for further data manipulation and analysis\n",
    "import pandas as pd\n",
    "import yfinance as yf\n",
    "import matplotlib.pyplot as plt # Plotting\n",
    "import matplotlib.dates as mdates # Styling dates\n",
    "#%matplotlib inline\n",
    "\n",
    "import datetime as dt # For defining dates\n",
    "import mplfinance as mpf # Matplotlib finance\n",
    "\n",
    "import time\n",
    "\n",
    "# Used to get data from a directory\n",
    "import os\n",
    "from os import listdir\n",
    "from os.path import isfile, join"
   ]
  },
  {
   "cell_type": "code",
   "execution_count": 174,
   "id": "9e180e1c-a4d5-41a7-91c3-d8206f83a6d3",
   "metadata": {},
   "outputs": [
    {
     "data": {
      "text/plain": [
       "'\\n# Define path to files\\n# For Linux\\nBASE_PATH = \"../../../Documents/finance_files/\"\\nDATA_PATH = BASE_PATH\\nSTOCKS_PATH = BASE_PATH +\"stocks/\"\\n\\n# Start date defaults\\nS_YEAR = 2017\\nS_MONTH = 1\\nS_DAY = 3\\nS_DATE_STR = \"2017-01-03\"\\nS_DATE_DATETIME = dt.datetime(S_YEAR, S_MONTH, S_DAY)\\n\\n# End date defaults\\nE_YEAR = 2021\\nE_MONTH = 8\\nE_DAY = 19\\nE_DATE_STR = \"2021-08-19\"\\nE_DATE_DATETIME = dt.datetime(E_YEAR, E_MONTH, E_DAY)\\n'"
      ]
     },
     "execution_count": 174,
     "metadata": {},
     "output_type": "execute_result"
    }
   ],
   "source": [
    "'''\n",
    "# Define path to files\n",
    "# For Linux\n",
    "BASE_PATH = \"../../../Documents/finance_files/\"\n",
    "DATA_PATH = BASE_PATH\n",
    "STOCKS_PATH = BASE_PATH +\"stocks/\"\n",
    "\n",
    "# Start date defaults\n",
    "S_YEAR = 2017\n",
    "S_MONTH = 1\n",
    "S_DAY = 3\n",
    "S_DATE_STR = \"2017-01-03\"\n",
    "S_DATE_DATETIME = dt.datetime(S_YEAR, S_MONTH, S_DAY)\n",
    "\n",
    "# End date defaults\n",
    "E_YEAR = 2021\n",
    "E_MONTH = 8\n",
    "E_DAY = 19\n",
    "E_DATE_STR = \"2021-08-19\"\n",
    "E_DATE_DATETIME = dt.datetime(E_YEAR, E_MONTH, E_DAY)\n",
    "'''"
   ]
  },
  {
   "cell_type": "code",
   "execution_count": 175,
   "id": "103ed13d-1491-4851-8403-da7672e2ad3e",
   "metadata": {},
   "outputs": [],
   "source": [
    "#def datestring_to_dates(target_edate):\n",
    "#    return "
   ]
  },
  {
   "cell_type": "code",
   "execution_count": 176,
   "id": "450b1f28-45b1-4bd9-bd50-36670b5a1299",
   "metadata": {},
   "outputs": [],
   "source": [
    "stocks_not_downloaded = []\n",
    "missing_stocks = []"
   ]
  },
  {
   "cell_type": "code",
   "execution_count": 177,
   "id": "f4241531-68d7-419d-bcf5-464901e149b5",
   "metadata": {},
   "outputs": [],
   "source": [
    "def get_tickers(stocks_path):\n",
    "    try:\n",
    "        df = pd.read_csv(stocks_path + 'stocks.csv')\n",
    "        print(stocks_path)\n",
    "    except FileNotFoundError:\n",
    "        pass\n",
    "        print(\"Stocks File Doesn't Exist\",stocks_path)\n",
    "    else:\n",
    "        return df\n",
    "#tickers = get_tickers()['ticker'].tolist()\n",
    "#tickers.sort()\n",
    "#len(tickers)\n",
    "#print(tickers)"
   ]
  },
  {
   "cell_type": "code",
   "execution_count": 178,
   "id": "ada626cd-f457-49d3-807d-fe30ba80b9eb",
   "metadata": {},
   "outputs": [],
   "source": [
    "def delete_unnamed_cols(df):\n",
    "    df = df.loc[:, ~df.columns.str.contains('^Unnamed')]\n",
    "    return df"
   ]
  },
  {
   "cell_type": "code",
   "execution_count": 179,
   "id": "0ceee89a-37be-4c36-aa02-bb9053f48925",
   "metadata": {},
   "outputs": [],
   "source": [
    "def save_dataframe_to_csv(df, folder, ticker):\n",
    "    df = delete_unnamed_cols(df)\n",
    "    df.to_csv(folder + ticker + '.csv')"
   ]
  },
  {
   "cell_type": "code",
   "execution_count": 180,
   "id": "7a1153a8-f893-40af-9b21-0836a5ba12d0",
   "metadata": {},
   "outputs": [],
   "source": [
    "# Function that gets a dataframe by providing a ticker and starting date\n",
    "def create_csv_from_yahoo(ticker, syear, smonth, sday, etarget,data_path):\n",
    "    # Defines the time periods to use\n",
    "    start = dt.datetime(syear, smonth, sday)\n",
    "    end = etarget# dt.datetime(eyear, emonth, eday)\n",
    "    \n",
    "    try:\n",
    "        print(\"Get Data for : \", ticker)\n",
    "        # Reads data into a dataframe\n",
    "        #df = web.DataReader(ticker, 'yahoo', start, end)['Adj Close']\n",
    "        df = yf.download(ticker, start, end)['Adj Close']\n",
    "        df = df.reset_index()\n",
    "        df['Date'] = pd.to_datetime(df['Date'])\n",
    "    \n",
    "        # Wait 10 seconds\n",
    "        time.sleep(5)\n",
    "    \n",
    "        # Save data to a CSV file linux\n",
    "        save_dataframe_to_csv(df, data_path, ticker)\n",
    "        return df\n",
    "    except Exception as ex:\n",
    "        stocks_not_downloaded.append(ticker)\n",
    "        print(\"Couldn't Get Data for :\", ticker)"
   ]
  },
  {
   "cell_type": "code",
   "execution_count": 181,
   "id": "dc6b2b62-1fb4-43be-825f-fad22acb02b5",
   "metadata": {},
   "outputs": [],
   "source": [
    "def get_df_from_csv(folder, ticker):\n",
    "    try:\n",
    "        df = pd.read_csv(folder + ticker + '.csv',parse_dates=True)\n",
    "    except FileNotFoundError:\n",
    "        pass\n",
    "        print(\"File Doesn't Exist\")\n",
    "    else:\n",
    "        df = delete_unnamed_cols(df)\n",
    "        return df"
   ]
  },
  {
   "cell_type": "code",
   "execution_count": 182,
   "id": "d96ab5bf-1eea-44e5-b16f-9d56663bc791",
   "metadata": {},
   "outputs": [],
   "source": [
    "def update_stock_data(ticker,data_path,target_edate):\n",
    "    orig_df = get_df_from_csv(data_path, ticker)\n",
    "    if orig_df is not None:\n",
    "        print('there is data',orig_df.shape[0])\n",
    "        #orig_df = orig_df.reset_index().set_index('Date', drop=False)\n",
    "        # Drop the unnamed column\n",
    "        orig_df = delete_unnamed_cols(orig_df)\n",
    "        orig_df['Date'] = pd.to_datetime(orig_df['Date'])\n",
    "        # Drop the daily_return column\n",
    "        if 'daily_return' in orig_df.columns:\n",
    "            orig_df = orig_df.drop('daily_return',axis = 1, inplace = True)\n",
    "        #print('old:')\n",
    "        #display(orig_df.tail(5))\n",
    "        #check if it needs more data\n",
    "        edate = pd.to_datetime(orig_df.iloc[-1]['Date'])\n",
    "        #print(edate)\n",
    "        if(edate < target_edate):            \n",
    "            #print(edate,'  ',target_edate)\n",
    "            updated_df = yf.download(ticker, edate, dt.date.today())['Adj Close']\n",
    "            if(updated_df is not None):\n",
    "                updated_df = updated_df.reset_index()\n",
    "                updated_df['Date'] = pd.to_datetime(updated_df['Date'])\n",
    "                updated_df = delete_unnamed_cols(updated_df)\n",
    "                #print('new:',updated_df.shape[0])\n",
    "                #display(updated_df.head(5))\n",
    "                #display(updated_df.tail(5))\n",
    "                orig_df = pd.concat([orig_df[['Date','Adj Close']], updated_df[['Date','Adj Close']]])\n",
    "                #display(orig_df)\n",
    "        save_dataframe_to_csv(orig_df, data_path, ticker)\n",
    "        return orig_df\n",
    "    else:\n",
    "        print('there is no data')\n",
    "        new_df = create_csv_from_yahoo(ticker, 2017, 1, 3, target_edate,data_path)\n"
   ]
  },
  {
   "cell_type": "code",
   "execution_count": 183,
   "id": "aafb4784-6571-400a-8de6-bb3c83f31182",
   "metadata": {},
   "outputs": [],
   "source": [
    "def update_stocks(stocks_folder,data_path,target_edate):\n",
    "    tickers = get_tickers(stocks_folder)['ticker'].tolist()\n",
    "\n",
    "    for x in tickers:\n",
    "        try:\n",
    "            print(\"Working on :\", x)\n",
    "            new_df = update_stock_data(x,data_path,target_edate)\n",
    "        except Exception as ex:\n",
    "            print(ex)"
   ]
  },
  {
   "cell_type": "code",
   "execution_count": 186,
   "id": "4397a2ea-c608-4b84-a26d-834ec962f389",
   "metadata": {},
   "outputs": [
    {
     "name": "stdout",
     "output_type": "stream",
     "text": [
      "there is data 1914\n",
      "old:\n"
     ]
    },
    {
     "data": {
      "text/html": [
       "<div>\n",
       "<style scoped>\n",
       "    .dataframe tbody tr th:only-of-type {\n",
       "        vertical-align: middle;\n",
       "    }\n",
       "\n",
       "    .dataframe tbody tr th {\n",
       "        vertical-align: top;\n",
       "    }\n",
       "\n",
       "    .dataframe thead th {\n",
       "        text-align: right;\n",
       "    }\n",
       "</style>\n",
       "<table border=\"1\" class=\"dataframe\">\n",
       "  <thead>\n",
       "    <tr style=\"text-align: right;\">\n",
       "      <th></th>\n",
       "      <th>Date</th>\n",
       "      <th>Adj Close</th>\n",
       "    </tr>\n",
       "  </thead>\n",
       "  <tbody>\n",
       "    <tr>\n",
       "      <th>1909</th>\n",
       "      <td>2024-08-05</td>\n",
       "      <td>19.983234</td>\n",
       "    </tr>\n",
       "    <tr>\n",
       "      <th>1910</th>\n",
       "      <td>2024-08-06</td>\n",
       "      <td>19.705000</td>\n",
       "    </tr>\n",
       "    <tr>\n",
       "      <th>1911</th>\n",
       "      <td>2024-08-07</td>\n",
       "      <td>18.990000</td>\n",
       "    </tr>\n",
       "    <tr>\n",
       "      <th>1912</th>\n",
       "      <td>2024-08-08</td>\n",
       "      <td>20.490000</td>\n",
       "    </tr>\n",
       "    <tr>\n",
       "      <th>1913</th>\n",
       "      <td>2024-08-09</td>\n",
       "      <td>19.709999</td>\n",
       "    </tr>\n",
       "  </tbody>\n",
       "</table>\n",
       "</div>"
      ],
      "text/plain": [
       "           Date  Adj Close\n",
       "1909 2024-08-05  19.983234\n",
       "1910 2024-08-06  19.705000\n",
       "1911 2024-08-07  18.990000\n",
       "1912 2024-08-08  20.490000\n",
       "1913 2024-08-09  19.709999"
      ]
     },
     "metadata": {},
     "output_type": "display_data"
    },
    {
     "name": "stdout",
     "output_type": "stream",
     "text": [
      "2024-08-09 00:00:00\n"
     ]
    }
   ],
   "source": [
    "#print(get_tickers())\n",
    "#update_stocks(DATA_PATH)\n",
    "newdf = update_stock_data('INTC',\"../../../Documents/finance_files/\",dt.datetime(2020,12,1))"
   ]
  },
  {
   "cell_type": "code",
   "execution_count": null,
   "id": "27320b9a-fcdf-47ed-ae9c-26ebb8aac0de",
   "metadata": {},
   "outputs": [],
   "source": []
  },
  {
   "cell_type": "code",
   "execution_count": null,
   "id": "fa99f1fb-d4d4-435f-b661-41a1cd7c5cb5",
   "metadata": {},
   "outputs": [],
   "source": []
  }
 ],
 "metadata": {
  "kernelspec": {
   "display_name": "Python 3 (ipykernel)",
   "language": "python",
   "name": "python3"
  },
  "language_info": {
   "codemirror_mode": {
    "name": "ipython",
    "version": 3
   },
   "file_extension": ".py",
   "mimetype": "text/x-python",
   "name": "python",
   "nbconvert_exporter": "python",
   "pygments_lexer": "ipython3",
   "version": "3.12.3"
  }
 },
 "nbformat": 4,
 "nbformat_minor": 5
}
