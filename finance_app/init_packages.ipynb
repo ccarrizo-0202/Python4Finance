{
 "cells": [
  {
   "cell_type": "code",
   "execution_count": 1,
   "id": "5cc62334-71c8-4e6c-8300-a9b246841348",
   "metadata": {},
   "outputs": [
    {
     "name": "stdout",
     "output_type": "stream",
     "text": [
      "Requirement already satisfied: pandas_datareader in /home/carlos/.config/jupyterlab-desktop/jlab_server/lib/python3.12/site-packages (0.10.0)\n",
      "Requirement already satisfied: lxml in /home/carlos/.config/jupyterlab-desktop/jlab_server/lib/python3.12/site-packages (from pandas_datareader) (5.2.2)\n",
      "Requirement already satisfied: pandas>=0.23 in /home/carlos/.config/jupyterlab-desktop/jlab_server/lib/python3.12/site-packages (from pandas_datareader) (2.2.2)\n",
      "Requirement already satisfied: requests>=2.19.0 in /home/carlos/.config/jupyterlab-desktop/jlab_server/lib/python3.12/site-packages (from pandas_datareader) (2.32.2)\n",
      "Requirement already satisfied: numpy>=1.26.0 in /home/carlos/.config/jupyterlab-desktop/jlab_server/lib/python3.12/site-packages (from pandas>=0.23->pandas_datareader) (1.26.4)\n",
      "Requirement already satisfied: python-dateutil>=2.8.2 in /home/carlos/.config/jupyterlab-desktop/jlab_server/lib/python3.12/site-packages (from pandas>=0.23->pandas_datareader) (2.9.0)\n",
      "Requirement already satisfied: pytz>=2020.1 in /home/carlos/.config/jupyterlab-desktop/jlab_server/lib/python3.12/site-packages (from pandas>=0.23->pandas_datareader) (2024.1)\n",
      "Requirement already satisfied: tzdata>=2022.7 in /home/carlos/.config/jupyterlab-desktop/jlab_server/lib/python3.12/site-packages (from pandas>=0.23->pandas_datareader) (2024.1)\n",
      "Requirement already satisfied: charset-normalizer<4,>=2 in /home/carlos/.config/jupyterlab-desktop/jlab_server/lib/python3.12/site-packages (from requests>=2.19.0->pandas_datareader) (3.3.2)\n",
      "Requirement already satisfied: idna<4,>=2.5 in /home/carlos/.config/jupyterlab-desktop/jlab_server/lib/python3.12/site-packages (from requests>=2.19.0->pandas_datareader) (3.7)\n",
      "Requirement already satisfied: urllib3<3,>=1.21.1 in /home/carlos/.config/jupyterlab-desktop/jlab_server/lib/python3.12/site-packages (from requests>=2.19.0->pandas_datareader) (2.2.1)\n",
      "Requirement already satisfied: certifi>=2017.4.17 in /home/carlos/.config/jupyterlab-desktop/jlab_server/lib/python3.12/site-packages (from requests>=2.19.0->pandas_datareader) (2024.2.2)\n",
      "Requirement already satisfied: six>=1.5 in /home/carlos/.config/jupyterlab-desktop/jlab_server/lib/python3.12/site-packages (from python-dateutil>=2.8.2->pandas>=0.23->pandas_datareader) (1.16.0)\n",
      "Requirement already satisfied: mplfinance in /home/carlos/.config/jupyterlab-desktop/jlab_server/lib/python3.12/site-packages (0.12.10b0)\n",
      "Requirement already satisfied: matplotlib in /home/carlos/.config/jupyterlab-desktop/jlab_server/lib/python3.12/site-packages (from mplfinance) (3.8.4)\n",
      "Requirement already satisfied: pandas in /home/carlos/.config/jupyterlab-desktop/jlab_server/lib/python3.12/site-packages (from mplfinance) (2.2.2)\n",
      "Requirement already satisfied: contourpy>=1.0.1 in /home/carlos/.config/jupyterlab-desktop/jlab_server/lib/python3.12/site-packages (from matplotlib->mplfinance) (1.2.1)\n",
      "Requirement already satisfied: cycler>=0.10 in /home/carlos/.config/jupyterlab-desktop/jlab_server/lib/python3.12/site-packages (from matplotlib->mplfinance) (0.12.1)\n",
      "Requirement already satisfied: fonttools>=4.22.0 in /home/carlos/.config/jupyterlab-desktop/jlab_server/lib/python3.12/site-packages (from matplotlib->mplfinance) (4.51.0)\n",
      "Requirement already satisfied: kiwisolver>=1.3.1 in /home/carlos/.config/jupyterlab-desktop/jlab_server/lib/python3.12/site-packages (from matplotlib->mplfinance) (1.4.5)\n",
      "Requirement already satisfied: numpy>=1.21 in /home/carlos/.config/jupyterlab-desktop/jlab_server/lib/python3.12/site-packages (from matplotlib->mplfinance) (1.26.4)\n",
      "Requirement already satisfied: packaging>=20.0 in /home/carlos/.config/jupyterlab-desktop/jlab_server/lib/python3.12/site-packages (from matplotlib->mplfinance) (24.0)\n",
      "Requirement already satisfied: pillow>=8 in /home/carlos/.config/jupyterlab-desktop/jlab_server/lib/python3.12/site-packages (from matplotlib->mplfinance) (10.3.0)\n",
      "Requirement already satisfied: pyparsing>=2.3.1 in /home/carlos/.config/jupyterlab-desktop/jlab_server/lib/python3.12/site-packages (from matplotlib->mplfinance) (3.1.2)\n",
      "Requirement already satisfied: python-dateutil>=2.7 in /home/carlos/.config/jupyterlab-desktop/jlab_server/lib/python3.12/site-packages (from matplotlib->mplfinance) (2.9.0)\n",
      "Requirement already satisfied: pytz>=2020.1 in /home/carlos/.config/jupyterlab-desktop/jlab_server/lib/python3.12/site-packages (from pandas->mplfinance) (2024.1)\n",
      "Requirement already satisfied: tzdata>=2022.7 in /home/carlos/.config/jupyterlab-desktop/jlab_server/lib/python3.12/site-packages (from pandas->mplfinance) (2024.1)\n",
      "Requirement already satisfied: six>=1.5 in /home/carlos/.config/jupyterlab-desktop/jlab_server/lib/python3.12/site-packages (from python-dateutil>=2.7->matplotlib->mplfinance) (1.16.0)\n",
      "Requirement already satisfied: yfinance in /home/carlos/.config/jupyterlab-desktop/jlab_server/lib/python3.12/site-packages (0.2.41)\n",
      "Requirement already satisfied: pandas>=1.3.0 in /home/carlos/.config/jupyterlab-desktop/jlab_server/lib/python3.12/site-packages (from yfinance) (2.2.2)\n",
      "Requirement already satisfied: numpy>=1.16.5 in /home/carlos/.config/jupyterlab-desktop/jlab_server/lib/python3.12/site-packages (from yfinance) (1.26.4)\n",
      "Requirement already satisfied: requests>=2.31 in /home/carlos/.config/jupyterlab-desktop/jlab_server/lib/python3.12/site-packages (from yfinance) (2.32.2)\n",
      "Requirement already satisfied: multitasking>=0.0.7 in /home/carlos/.config/jupyterlab-desktop/jlab_server/lib/python3.12/site-packages (from yfinance) (0.0.11)\n",
      "Requirement already satisfied: lxml>=4.9.1 in /home/carlos/.config/jupyterlab-desktop/jlab_server/lib/python3.12/site-packages (from yfinance) (5.2.2)\n",
      "Requirement already satisfied: platformdirs>=2.0.0 in /home/carlos/.config/jupyterlab-desktop/jlab_server/lib/python3.12/site-packages (from yfinance) (4.2.2)\n",
      "Requirement already satisfied: pytz>=2022.5 in /home/carlos/.config/jupyterlab-desktop/jlab_server/lib/python3.12/site-packages (from yfinance) (2024.1)\n",
      "Requirement already satisfied: frozendict>=2.3.4 in /home/carlos/.config/jupyterlab-desktop/jlab_server/lib/python3.12/site-packages (from yfinance) (2.4.4)\n",
      "Requirement already satisfied: peewee>=3.16.2 in /home/carlos/.config/jupyterlab-desktop/jlab_server/lib/python3.12/site-packages (from yfinance) (3.17.6)\n",
      "Requirement already satisfied: beautifulsoup4>=4.11.1 in /home/carlos/.config/jupyterlab-desktop/jlab_server/lib/python3.12/site-packages (from yfinance) (4.12.3)\n",
      "Requirement already satisfied: html5lib>=1.1 in /home/carlos/.config/jupyterlab-desktop/jlab_server/lib/python3.12/site-packages (from yfinance) (1.1)\n",
      "Requirement already satisfied: soupsieve>1.2 in /home/carlos/.config/jupyterlab-desktop/jlab_server/lib/python3.12/site-packages (from beautifulsoup4>=4.11.1->yfinance) (2.5)\n",
      "Requirement already satisfied: six>=1.9 in /home/carlos/.config/jupyterlab-desktop/jlab_server/lib/python3.12/site-packages (from html5lib>=1.1->yfinance) (1.16.0)\n",
      "Requirement already satisfied: webencodings in /home/carlos/.config/jupyterlab-desktop/jlab_server/lib/python3.12/site-packages (from html5lib>=1.1->yfinance) (0.5.1)\n",
      "Requirement already satisfied: python-dateutil>=2.8.2 in /home/carlos/.config/jupyterlab-desktop/jlab_server/lib/python3.12/site-packages (from pandas>=1.3.0->yfinance) (2.9.0)\n",
      "Requirement already satisfied: tzdata>=2022.7 in /home/carlos/.config/jupyterlab-desktop/jlab_server/lib/python3.12/site-packages (from pandas>=1.3.0->yfinance) (2024.1)\n",
      "Requirement already satisfied: charset-normalizer<4,>=2 in /home/carlos/.config/jupyterlab-desktop/jlab_server/lib/python3.12/site-packages (from requests>=2.31->yfinance) (3.3.2)\n",
      "Requirement already satisfied: idna<4,>=2.5 in /home/carlos/.config/jupyterlab-desktop/jlab_server/lib/python3.12/site-packages (from requests>=2.31->yfinance) (3.7)\n",
      "Requirement already satisfied: urllib3<3,>=1.21.1 in /home/carlos/.config/jupyterlab-desktop/jlab_server/lib/python3.12/site-packages (from requests>=2.31->yfinance) (2.2.1)\n",
      "Requirement already satisfied: certifi>=2017.4.17 in /home/carlos/.config/jupyterlab-desktop/jlab_server/lib/python3.12/site-packages (from requests>=2.31->yfinance) (2024.2.2)\n",
      "Requirement already satisfied: ipynb in /home/carlos/.config/jupyterlab-desktop/jlab_server/lib/python3.12/site-packages (0.5.1)\n"
     ]
    }
   ],
   "source": [
    "!pip install pandas_datareader\n",
    "!pip install mplfinance\n",
    "!pip install yfinance\n",
    "!pip install ipynb\n",
    "\n",
    "#!pip install statsmodel"
   ]
  },
  {
   "cell_type": "code",
   "execution_count": null,
   "id": "c5e3405d-0972-48ed-90e2-2d1e9ae211d2",
   "metadata": {},
   "outputs": [],
   "source": []
  },
  {
   "cell_type": "code",
   "execution_count": null,
   "id": "a5c417e1-b777-4fe3-b3aa-867ca4dc0022",
   "metadata": {},
   "outputs": [],
   "source": []
  }
 ],
 "metadata": {
  "kernelspec": {
   "display_name": "Python 3 (ipykernel)",
   "language": "python",
   "name": "python3"
  },
  "language_info": {
   "codemirror_mode": {
    "name": "ipython",
    "version": 3
   },
   "file_extension": ".py",
   "mimetype": "text/x-python",
   "name": "python",
   "nbconvert_exporter": "python",
   "pygments_lexer": "ipython3",
   "version": "3.12.3"
  }
 },
 "nbformat": 4,
 "nbformat_minor": 5
}
