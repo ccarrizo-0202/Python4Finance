{
 "cells": [
  {
   "cell_type": "code",
   "execution_count": null,
   "id": "5cc62334-71c8-4e6c-8300-a9b246841348",
   "metadata": {},
   "outputs": [],
   "source": [
    "!pip install pandas_datareader\n",
    "!pip install mplfinance\n",
    "!pip install yfinance\n",
    "!pip install ipynb\n",
    "\n",
    "#!pip install statsmodel"
   ]
  },
  {
   "cell_type": "code",
   "execution_count": null,
   "id": "c5e3405d-0972-48ed-90e2-2d1e9ae211d2",
   "metadata": {},
   "outputs": [],
   "source": []
  },
  {
   "cell_type": "code",
   "execution_count": null,
   "id": "a5c417e1-b777-4fe3-b3aa-867ca4dc0022",
   "metadata": {},
   "outputs": [],
   "source": []
  }
 ],
 "metadata": {
  "kernelspec": {
   "display_name": "Python 3 (ipykernel)",
   "language": "python",
   "name": "python3"
  },
  "language_info": {
   "codemirror_mode": {
    "name": "ipython",
    "version": 3
   },
   "file_extension": ".py",
   "mimetype": "text/x-python",
   "name": "python",
   "nbconvert_exporter": "python",
   "pygments_lexer": "ipython3",
   "version": "3.12.3"
  }
 },
 "nbformat": 4,
 "nbformat_minor": 5
}
