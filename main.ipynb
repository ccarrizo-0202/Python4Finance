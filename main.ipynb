{
 "cells": [
  {
   "cell_type": "code",
   "execution_count": null,
   "id": "60fe6bfb-f68d-4b29-a87d-ff5fe7ae3625",
   "metadata": {},
   "outputs": [],
   "source": [
    "import import_ipynb\n",
    "import os\n",
    "import inspect#\n",
    "import datetime as dt # For defining dates\n",
    "\n",
    "'''\n",
    "for subdir, dirs, files in os.walk('./'):\n",
    "    for file in files:\n",
    "      print(file)\n",
    "'''\n",
    "import sys\n",
    "print(sys.path)\n",
    "#sys.path.append('home/carlos/repositories/Python4Finance/')"
   ]
  },
  {
   "cell_type": "code",
   "execution_count": null,
   "id": "3459ef9a-b617-4327-85e2-49eec3557803",
   "metadata": {},
   "outputs": [],
   "source": [
    "# For Linux\n",
    "BASE_PATH = \"../../Documents/finance_files/\"\n",
    "DATA_PATH = BASE_PATH\n",
    "STOCKS_PATH = BASE_PATH +\"stocks/\"\n",
    "\n",
    "# Start date defaults\n",
    "S_YEAR = 2017\n",
    "S_MONTH = 1\n",
    "S_DAY = 3\n",
    "S_DATE_STR = \"2023-01-05\"\n",
    "S_DATE_DATETIME = dt.datetime(S_YEAR, S_MONTH, S_DAY)\n",
    "\n",
    "# End date defaults\n",
    "E_YEAR = 2021\n",
    "E_MONTH = 8\n",
    "E_DAY = 19\n",
    "E_DATE_STR = \"2024-08-01\"\n",
    "E_DATE_DATETIME = dt.datetime(E_YEAR, E_MONTH, E_DAY)"
   ]
  },
  {
   "cell_type": "code",
   "execution_count": null,
   "id": "679fcd74-ecbe-493f-b4df-fa170c52f339",
   "metadata": {},
   "outputs": [],
   "source": [
    "%run load_data/load_data.ipynb import get_tickers# none\n",
    "%run load_data/load_data.ipynb import get_df_from_csv #path,ticker\n",
    "%run load_data/load_data.ipynb import update_stock_data\n",
    "%run load_data/load_data.ipynb import save_dataframe_to_csv\n",
    "%run financial_metrics/financial_metrics.ipynb\n",
    "\n",
    "#update_stock_data(get_tickers())"
   ]
  },
  {
   "cell_type": "code",
   "execution_count": null,
   "id": "8f56d107-a96c-4012-a49f-382be9a7866a",
   "metadata": {},
   "outputs": [],
   "source": [
    "print(get_tickers())\n",
    "intc_df = get_df_from_csv(DATA_PATH,'INTC')\n",
    "amd_df = get_df_from_csv(DATA_PATH,'AMD')\n",
    "spy_df = get_df_from_csv(DATA_PATH,'SPY')\n",
    "intc_df =intc_df.reset_index()\n",
    "display(intc_df)\n",
    "add_daily_return_to_df(intc_df,'INTC',DATA_PATH)\n",
    "add_daily_return_to_df(amd_df,'AMD',DATA_PATH)\n",
    "add_daily_return_to_df(spy_df,'SPY',DATA_PATH)\n",
    "#display(intc_df.head())\n",
    "display(intc_df.tail())\n",
    "print(get_valid_dates(intc_df,S_DATE_STR , E_DATE_STR))\n",
    "#intc_df = intc_df.set_index(['Date'])\n",
    "#print((intc_df['Date'] > S_DATE_STR) & (intc_df['Date'] <= E_DATE_STR))\n",
    "#intc_fd_df = get_cov_ror('INTC', intc_df,S_DATE_STR , E_DATE_STR )\n",
    "#print(intc_fd_df)"
   ]
  },
  {
   "cell_type": "code",
   "execution_count": null,
   "id": "0688d0e1-c4ff-43bc-b3b8-4ba300f42073",
   "metadata": {},
   "outputs": [],
   "source": []
  }
 ],
 "metadata": {
  "kernelspec": {
   "display_name": "Python 3 (ipykernel)",
   "language": "python",
   "name": "python3"
  },
  "language_info": {
   "codemirror_mode": {
    "name": "ipython",
    "version": 3
   },
   "file_extension": ".py",
   "mimetype": "text/x-python",
   "name": "python",
   "nbconvert_exporter": "python",
   "pygments_lexer": "ipython3",
   "version": "3.12.3"
  }
 },
 "nbformat": 4,
 "nbformat_minor": 5
}
