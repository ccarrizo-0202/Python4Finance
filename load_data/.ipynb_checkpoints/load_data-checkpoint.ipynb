{
 "cells": [
  {
   "cell_type": "code",
   "execution_count": null,
   "id": "3b1a2fe9-1ea9-4c2b-a6b2-41e2a45dd422",
   "metadata": {},
   "outputs": [],
   "source": [
    "# Provides ways to work with large multidimensional arrays\n",
    "import numpy as np \n",
    "# Allows for further data manipulation and analysis\n",
    "import pandas as pd\n",
    "import yfinance as yf\n",
    "import matplotlib.pyplot as plt # Plotting\n",
    "import matplotlib.dates as mdates # Styling dates\n",
    "%matplotlib inline\n",
    "\n",
    "import datetime as dt # For defining dates\n",
    "import mplfinance as mpf # Matplotlib finance\n",
    "\n",
    "import time\n",
    "\n",
    "# Used to get data from a directory\n",
    "import os\n",
    "from os import listdir\n",
    "from os.path import isfile, join"
   ]
  },
  {
   "cell_type": "code",
   "execution_count": 2,
   "id": "9e180e1c-a4d5-41a7-91c3-d8206f83a6d3",
   "metadata": {},
   "outputs": [
    {
     "ename": "NameError",
     "evalue": "name 'dt' is not defined",
     "output_type": "error",
     "traceback": [
      "\u001b[0;31m---------------------------------------------------------------------------\u001b[0m",
      "\u001b[0;31mNameError\u001b[0m                                 Traceback (most recent call last)",
      "Cell \u001b[0;32mIn[2], line 12\u001b[0m\n\u001b[1;32m     10\u001b[0m S_DAY \u001b[38;5;241m=\u001b[39m \u001b[38;5;241m3\u001b[39m\n\u001b[1;32m     11\u001b[0m S_DATE_STR \u001b[38;5;241m=\u001b[39m \u001b[38;5;124m\"\u001b[39m\u001b[38;5;124m2017-01-03\u001b[39m\u001b[38;5;124m\"\u001b[39m\n\u001b[0;32m---> 12\u001b[0m S_DATE_DATETIME \u001b[38;5;241m=\u001b[39m \u001b[43mdt\u001b[49m\u001b[38;5;241m.\u001b[39mdatetime(S_YEAR, S_MONTH, S_DAY)\n\u001b[1;32m     14\u001b[0m \u001b[38;5;66;03m# End date defaults\u001b[39;00m\n\u001b[1;32m     15\u001b[0m E_YEAR \u001b[38;5;241m=\u001b[39m \u001b[38;5;241m2021\u001b[39m\n",
      "\u001b[0;31mNameError\u001b[0m: name 'dt' is not defined"
     ]
    }
   ],
   "source": [
    "'''\n",
    "# Define path to files\n",
    "# For Linux\n",
    "BASE_PATH = \"../../Documents/finance_files/\"\n",
    "DATA_PATH = BASE_PATH\n",
    "STOCKS_PATH = BASE_PATH +\"stocks/\"\n",
    "\n",
    "# Start date defaults\n",
    "S_YEAR = 2017\n",
    "S_MONTH = 1\n",
    "S_DAY = 3\n",
    "S_DATE_STR = \"2017-01-03\"\n",
    "S_DATE_DATETIME = dt.datetime(S_YEAR, S_MONTH, S_DAY)\n",
    "\n",
    "# End date defaults\n",
    "E_YEAR = 2021\n",
    "E_MONTH = 8\n",
    "E_DAY = 19\n",
    "E_DATE_STR = \"2021-08-19\"\n",
    "E_DATE_DATETIME = dt.datetime(E_YEAR, E_MONTH, E_DAY)\n",
    "'''"
   ]
  },
  {
   "cell_type": "code",
   "execution_count": null,
   "id": "450b1f28-45b1-4bd9-bd50-36670b5a1299",
   "metadata": {},
   "outputs": [],
   "source": [
    "stocks_not_downloaded = []\n",
    "missing_stocks = []"
   ]
  },
  {
   "cell_type": "code",
   "execution_count": null,
   "id": "f4241531-68d7-419d-bcf5-464901e149b5",
   "metadata": {},
   "outputs": [],
   "source": [
    "def get_tickers():\n",
    "    try:\n",
    "        df = pd.read_csv(STOCKS_PATH + 'stocks.csv')\n",
    "        print(STOCKS_PATH)\n",
    "    except FileNotFoundError:\n",
    "        pass\n",
    "        print(\"Stocks File Doesn't Exist\",STOCKS_PATH)\n",
    "    else:\n",
    "        return df\n",
    "#tickers = get_tickers()['ticker'].tolist()\n",
    "#tickers.sort()\n",
    "#len(tickers)\n",
    "#print(tickers)"
   ]
  },
  {
   "cell_type": "code",
   "execution_count": null,
   "id": "ada626cd-f457-49d3-807d-fe30ba80b9eb",
   "metadata": {},
   "outputs": [],
   "source": [
    "def delete_unnamed_cols(df):\n",
    "    df = df.loc[:, ~df.columns.str.contains('^Unnamed')]\n",
    "    return df"
   ]
  },
  {
   "cell_type": "code",
   "execution_count": null,
   "id": "7a1153a8-f893-40af-9b21-0836a5ba12d0",
   "metadata": {},
   "outputs": [],
   "source": [
    "# Function that gets a dataframe by providing a ticker and starting date\n",
    "def save_to_csv_from_yahoo(ticker, syear, smonth, sday, eyear, emonth, eday):\n",
    "    # Defines the time periods to use\n",
    "    start = dt.datetime(syear, smonth, sday)\n",
    "    end = dt.datetime(eyear, emonth, eday)\n",
    "    \n",
    "    try:\n",
    "        print(\"Get Data for : \", ticker)\n",
    "        # Reads data into a dataframe\n",
    "        #df = web.DataReader(ticker, 'yahoo', start, end)['Adj Close']\n",
    "        df = yf.download(ticker, start, end)['Adj Close']\n",
    "        df['Date'] = df.reset_index()\n",
    "    \n",
    "        # Wait 10 seconds\n",
    "        time.sleep(5)\n",
    "    \n",
    "        # Save data to a CSV file linux\n",
    "        df = delete_unnamed_cols(df)\n",
    "        df.to_csv(DATA_PATH + ticker + '.csv')\n",
    "    except Exception as ex:\n",
    "        stocks_not_downloaded.append(ticker)\n",
    "        print(\"Couldn't Get Data for :\", ticker)"
   ]
  },
  {
   "cell_type": "code",
   "execution_count": null,
   "id": "dc6b2b62-1fb4-43be-825f-fad22acb02b5",
   "metadata": {},
   "outputs": [],
   "source": [
    "def get_df_from_csv(folder, ticker):\n",
    "    try:\n",
    "        df = pd.read_csv(folder + ticker + '.csv', index_col='Date', \n",
    "                         parse_dates=True)\n",
    "    except FileNotFoundError:\n",
    "        pass\n",
    "        print(\"File Doesn't Exist\")\n",
    "    else:\n",
    "        return df"
   ]
  },
  {
   "cell_type": "code",
   "execution_count": null,
   "id": "eba57bd0-4677-4be1-88de-9a97eac95da1",
   "metadata": {},
   "outputs": [],
   "source": [
    "def update_stock_data(ticker):\n",
    "    orig_df = get_df_from_csv(DATA_PATH, ticker)\n",
    "    if orig_df is not None:\n",
    "        print('there is data')\n",
    "        # Drop the unnamed column\n",
    "        oorig_df = orig_df.drop(orig_df.columns[orig_df.columns.str.contains('unnamed',case = False)],\n",
    "          axis = 1, inplace = True)\n",
    "\n",
    "        # Drop the daily_return column\n",
    "        if 'daily_return' in orig_df.columns:\n",
    "            orig_df = orig_df.drop('daily_return',axis = 1, inplace = True)\n",
    "\n",
    "        #check if it needs more data\n",
    "        if(orig_df.index[-1] != E_DATE_DATETIME):\n",
    "            edate = orig_df.index[-1]\n",
    "            updated_df = yf.download(ticker, edate, dt.date.today())['Adj Close']\n",
    "            updated_df['Date'] = updated_df.reset_index()\n",
    "            if(updated_df is not None):\n",
    "                orig_df = pd.concat([orig_df, updated_df])\n",
    "\n",
    "        display(orig_df)\n",
    "        return orig_df\n",
    "    else:\n",
    "        print('there is no data')\n",
    "        save_to_csv_from_yahoo(ticker, S_YEAR, S_MONTH, S_DAY, E_YEAR, E_MONTH, E_DAY)\n"
   ]
  },
  {
   "cell_type": "code",
   "execution_count": 3,
   "id": "0ceee89a-37be-4c36-aa02-bb9053f48925",
   "metadata": {},
   "outputs": [],
   "source": [
    "def save_dataframe_to_csv(df, folder, ticker):\n",
    "    df = delete_unnamed_cols(df)\n",
    "    df.to_csv(folder + ticker + '.csv')"
   ]
  },
  {
   "cell_type": "code",
   "execution_count": null,
   "id": "aafb4784-6571-400a-8de6-bb3c83f31182",
   "metadata": {},
   "outputs": [],
   "source": [
    "def update_stocks(stock_folder):\n",
    "    tickers = get_tickers()['ticker'].tolist()\n",
    "\n",
    "    for x in tickers:\n",
    "        try:\n",
    "            print(\"Working on :\", x)\n",
    "            new_df = update_stock_data(x)\n",
    "            save_dataframe_to_csv(new_df, stock_folder, x)\n",
    "        except Exception as ex:\n",
    "            print(ex)"
   ]
  },
  {
   "cell_type": "code",
   "execution_count": 1,
   "id": "4397a2ea-c608-4b84-a26d-834ec962f389",
   "metadata": {},
   "outputs": [],
   "source": [
    "#print(get_tickers())\n",
    "#update_stocks(DATA_PATH)"
   ]
  },
  {
   "cell_type": "code",
   "execution_count": null,
   "id": "27320b9a-fcdf-47ed-ae9c-26ebb8aac0de",
   "metadata": {},
   "outputs": [],
   "source": []
  },
  {
   "cell_type": "code",
   "execution_count": null,
   "id": "fa99f1fb-d4d4-435f-b661-41a1cd7c5cb5",
   "metadata": {},
   "outputs": [],
   "source": []
  }
 ],
 "metadata": {
  "kernelspec": {
   "display_name": "Python 3 (ipykernel)",
   "language": "python",
   "name": "python3"
  },
  "language_info": {
   "codemirror_mode": {
    "name": "ipython",
    "version": 3
   },
   "file_extension": ".py",
   "mimetype": "text/x-python",
   "name": "python",
   "nbconvert_exporter": "python",
   "pygments_lexer": "ipython3",
   "version": "3.12.3"
  }
 },
 "nbformat": 4,
 "nbformat_minor": 5
}
